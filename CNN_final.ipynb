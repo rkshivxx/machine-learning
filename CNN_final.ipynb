{
  "cells": [
    {
      "cell_type": "code",
      "execution_count": 1,
      "id": "64bd82ae",
      "metadata": {
        "id": "64bd82ae"
      },
      "outputs": [],
      "source": [
        "import numpy as np\n",
        "import keras\n",
        "from keras.models import Sequential\n",
        "from keras.layers import Dense, Conv2D, MaxPooling2D, Flatten"
      ]
    },
    {
      "cell_type": "code",
      "execution_count": 2,
      "id": "0cf32925",
      "metadata": {
        "colab": {
          "base_uri": "https://localhost:8080/"
        },
        "id": "0cf32925",
        "outputId": "409e521b-e145-4bee-fd62-de305b442a7d"
      },
      "outputs": [
        {
          "output_type": "stream",
          "name": "stdout",
          "text": [
            "Downloading data from https://www.cs.toronto.edu/~kriz/cifar-10-python.tar.gz\n",
            "170498071/170498071 [==============================] - 4s 0us/step\n"
          ]
        }
      ],
      "source": [
        "from keras.datasets import cifar10\n",
        "(x_train, y_train), (x_test, y_test) = cifar10.load_data()"
      ]
    },
    {
      "cell_type": "code",
      "execution_count": 3,
      "id": "8072eb95",
      "metadata": {
        "id": "8072eb95"
      },
      "outputs": [],
      "source": [
        "x_train=x_train.astype('float32')/255\n",
        "x_test=x_test.astype('float32')/255"
      ]
    },
    {
      "cell_type": "code",
      "execution_count": 4,
      "id": "5e51eb62",
      "metadata": {
        "colab": {
          "base_uri": "https://localhost:8080/"
        },
        "id": "5e51eb62",
        "outputId": "ce2ba5db-97a8-490c-ab37-9a9bc74a8bcd"
      },
      "outputs": [
        {
          "output_type": "execute_result",
          "data": {
            "text/plain": [
              "(50000, 32, 32, 3)"
            ]
          },
          "metadata": {},
          "execution_count": 4
        }
      ],
      "source": [
        "x_train.shape"
      ]
    },
    {
      "cell_type": "code",
      "execution_count": 5,
      "id": "385031b1",
      "metadata": {
        "id": "385031b1"
      },
      "outputs": [],
      "source": [
        "num_classes = 10\n",
        "y_train = keras.utils.to_categorical(y_train, num_classes)\n",
        "y_test = keras.utils.to_categorical(y_test, num_classes)"
      ]
    },
    {
      "cell_type": "code",
      "source": [
        "x_validate=x_test[-1000:]\n",
        "y_validate=y_test[-1000:]\n",
        "x_test= x_test[:-1000]\n",
        "y_test=y_test[:-1000]"
      ],
      "metadata": {
        "id": "Go5c_h8Fyubk"
      },
      "id": "Go5c_h8Fyubk",
      "execution_count": 6,
      "outputs": []
    },
    {
      "cell_type": "code",
      "execution_count": 7,
      "id": "40dabd0e",
      "metadata": {
        "id": "40dabd0e"
      },
      "outputs": [],
      "source": [
        "model = Sequential()\n",
        "model.add(Conv2D(32, kernel_size=(3, 3), activation='relu', input_shape=x_train.shape[1:]))\n",
        "model.add(MaxPooling2D(pool_size=(2, 2)))\n",
        "model.add(Conv2D(64, (3, 3), activation='relu'))\n",
        "model.add(MaxPooling2D(pool_size=(2, 2)))\n",
        "model.add(Conv2D(128, (3, 3), activation='relu'))\n",
        "model.add(MaxPooling2D(pool_size=(2, 2)))\n",
        "model.add(Flatten())\n",
        "model.add(Dense(128, activation='relu'))\n",
        "model.add(Dense(num_classes, activation='softmax'))"
      ]
    },
    {
      "cell_type": "code",
      "execution_count": 8,
      "id": "0aa0deb4",
      "metadata": {
        "id": "0aa0deb4"
      },
      "outputs": [],
      "source": [
        "model.compile(loss='categorical_crossentropy', optimizer='adam', metrics=['accuracy'])"
      ]
    },
    {
      "cell_type": "code",
      "execution_count": 9,
      "id": "a4a6bf2f",
      "metadata": {
        "colab": {
          "base_uri": "https://localhost:8080/"
        },
        "id": "a4a6bf2f",
        "outputId": "bd4a4e48-0620-4c79-ebdf-cfd77ec7c325"
      },
      "outputs": [
        {
          "output_type": "stream",
          "name": "stdout",
          "text": [
            "Epoch 1/10\n",
            "391/391 [==============================] - 75s 187ms/step - loss: 1.6591 - accuracy: 0.3918 - val_loss: 1.3368 - val_accuracy: 0.4990\n",
            "Epoch 2/10\n",
            "391/391 [==============================] - 72s 183ms/step - loss: 1.2714 - accuracy: 0.5454 - val_loss: 1.1861 - val_accuracy: 0.5610\n",
            "Epoch 3/10\n",
            "391/391 [==============================] - 73s 186ms/step - loss: 1.1162 - accuracy: 0.6073 - val_loss: 1.0721 - val_accuracy: 0.6090\n",
            "Epoch 4/10\n",
            "391/391 [==============================] - 71s 182ms/step - loss: 1.0090 - accuracy: 0.6449 - val_loss: 1.0175 - val_accuracy: 0.6400\n",
            "Epoch 5/10\n",
            "391/391 [==============================] - 72s 185ms/step - loss: 0.9369 - accuracy: 0.6735 - val_loss: 0.9227 - val_accuracy: 0.6690\n",
            "Epoch 6/10\n",
            "391/391 [==============================] - 72s 183ms/step - loss: 0.8635 - accuracy: 0.6993 - val_loss: 0.8733 - val_accuracy: 0.6860\n",
            "Epoch 7/10\n",
            "391/391 [==============================] - 72s 184ms/step - loss: 0.8118 - accuracy: 0.7156 - val_loss: 0.8697 - val_accuracy: 0.6980\n",
            "Epoch 8/10\n",
            "391/391 [==============================] - 73s 187ms/step - loss: 0.7594 - accuracy: 0.7348 - val_loss: 0.8635 - val_accuracy: 0.6990\n",
            "Epoch 9/10\n",
            "391/391 [==============================] - 72s 185ms/step - loss: 0.7107 - accuracy: 0.7530 - val_loss: 0.8376 - val_accuracy: 0.7190\n",
            "Epoch 10/10\n",
            "391/391 [==============================] - 70s 179ms/step - loss: 0.6685 - accuracy: 0.7676 - val_loss: 0.8396 - val_accuracy: 0.7090\n"
          ]
        },
        {
          "output_type": "execute_result",
          "data": {
            "text/plain": [
              "<keras.callbacks.History at 0x7fb540038f10>"
            ]
          },
          "metadata": {},
          "execution_count": 9
        }
      ],
      "source": [
        "model.fit(x_train, y_train, epochs=10, batch_size=128, validation_data=(x_validate, y_validate))"
      ]
    },
    {
      "cell_type": "code",
      "execution_count": 10,
      "id": "d820080e",
      "metadata": {
        "colab": {
          "base_uri": "https://localhost:8080/"
        },
        "id": "d820080e",
        "outputId": "b89f2269-1bb7-4985-a731-f36da2a0650b"
      },
      "outputs": [
        {
          "output_type": "stream",
          "name": "stdout",
          "text": [
            "282/282 [==============================] - 4s 15ms/step - loss: 0.8728 - accuracy: 0.7080\n"
          ]
        }
      ],
      "source": [
        "\n",
        "score=model.evaluate(x_test,y_test)"
      ]
    },
    {
      "cell_type": "code",
      "execution_count": 11,
      "id": "d1e1006b",
      "metadata": {
        "colab": {
          "base_uri": "https://localhost:8080/"
        },
        "id": "d1e1006b",
        "outputId": "e224ddfa-1445-47dc-d13b-15d09b4ea7de"
      },
      "outputs": [
        {
          "output_type": "stream",
          "name": "stdout",
          "text": [
            "loss : 0.8727604150772095\n",
            "accuracy: 0.7080000042915344\n"
          ]
        }
      ],
      "source": [
        "print(\"loss :\",score[0])\n",
        "print(\"accuracy:\",score[1])"
      ]
    },
    {
      "cell_type": "code",
      "execution_count": null,
      "id": "c65453e7",
      "metadata": {
        "id": "c65453e7"
      },
      "outputs": [],
      "source": []
    }
  ],
  "metadata": {
    "kernelspec": {
      "display_name": "Python 3 (ipykernel)",
      "language": "python",
      "name": "python3"
    },
    "language_info": {
      "codemirror_mode": {
        "name": "ipython",
        "version": 3
      },
      "file_extension": ".py",
      "mimetype": "text/x-python",
      "name": "python",
      "nbconvert_exporter": "python",
      "pygments_lexer": "ipython3",
      "version": "3.9.7"
    },
    "colab": {
      "provenance": []
    }
  },
  "nbformat": 4,
  "nbformat_minor": 5
}